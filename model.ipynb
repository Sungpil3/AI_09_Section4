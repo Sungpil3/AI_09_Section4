{
 "cells": [
  {
   "cell_type": "code",
   "execution_count": 2,
   "metadata": {},
   "outputs": [
    {
     "data": {
      "text/html": [
       "<div>\n",
       "<style scoped>\n",
       "    .dataframe tbody tr th:only-of-type {\n",
       "        vertical-align: middle;\n",
       "    }\n",
       "\n",
       "    .dataframe tbody tr th {\n",
       "        vertical-align: top;\n",
       "    }\n",
       "\n",
       "    .dataframe thead th {\n",
       "        text-align: right;\n",
       "    }\n",
       "</style>\n",
       "<table border=\"1\" class=\"dataframe\">\n",
       "  <thead>\n",
       "    <tr style=\"text-align: right;\">\n",
       "      <th></th>\n",
       "      <th>0</th>\n",
       "      <th>1</th>\n",
       "      <th>2</th>\n",
       "      <th>3</th>\n",
       "      <th>4</th>\n",
       "      <th>5</th>\n",
       "      <th>6</th>\n",
       "      <th>7</th>\n",
       "      <th>8</th>\n",
       "      <th>9</th>\n",
       "      <th>...</th>\n",
       "      <th>357</th>\n",
       "      <th>358</th>\n",
       "      <th>359</th>\n",
       "      <th>360</th>\n",
       "      <th>361</th>\n",
       "      <th>362</th>\n",
       "      <th>363</th>\n",
       "      <th>364</th>\n",
       "      <th>365</th>\n",
       "      <th>366</th>\n",
       "    </tr>\n",
       "  </thead>\n",
       "  <tbody>\n",
       "    <tr>\n",
       "      <th>0</th>\n",
       "      <td>621515737</td>\n",
       "      <td>NaN</td>\n",
       "      <td>NaN</td>\n",
       "      <td>24.0</td>\n",
       "      <td>NaN</td>\n",
       "      <td>NaN</td>\n",
       "      <td>NaN</td>\n",
       "      <td>NaN</td>\n",
       "      <td>NaN</td>\n",
       "      <td>NaN</td>\n",
       "      <td>...</td>\n",
       "      <td>NaN</td>\n",
       "      <td>NaN</td>\n",
       "      <td>NaN</td>\n",
       "      <td>NaN</td>\n",
       "      <td>NaN</td>\n",
       "      <td>NaN</td>\n",
       "      <td>NaN</td>\n",
       "      <td>NaN</td>\n",
       "      <td>1.0</td>\n",
       "      <td>NaN</td>\n",
       "    </tr>\n",
       "    <tr>\n",
       "      <th>1</th>\n",
       "      <td>1460155726</td>\n",
       "      <td>NaN</td>\n",
       "      <td>NaN</td>\n",
       "      <td>NaN</td>\n",
       "      <td>NaN</td>\n",
       "      <td>NaN</td>\n",
       "      <td>NaN</td>\n",
       "      <td>NaN</td>\n",
       "      <td>NaN</td>\n",
       "      <td>NaN</td>\n",
       "      <td>...</td>\n",
       "      <td>NaN</td>\n",
       "      <td>NaN</td>\n",
       "      <td>NaN</td>\n",
       "      <td>NaN</td>\n",
       "      <td>NaN</td>\n",
       "      <td>NaN</td>\n",
       "      <td>NaN</td>\n",
       "      <td>NaN</td>\n",
       "      <td>NaN</td>\n",
       "      <td>NaN</td>\n",
       "    </tr>\n",
       "    <tr>\n",
       "      <th>2</th>\n",
       "      <td>1191489093</td>\n",
       "      <td>NaN</td>\n",
       "      <td>NaN</td>\n",
       "      <td>NaN</td>\n",
       "      <td>NaN</td>\n",
       "      <td>NaN</td>\n",
       "      <td>NaN</td>\n",
       "      <td>NaN</td>\n",
       "      <td>NaN</td>\n",
       "      <td>NaN</td>\n",
       "      <td>...</td>\n",
       "      <td>NaN</td>\n",
       "      <td>NaN</td>\n",
       "      <td>NaN</td>\n",
       "      <td>NaN</td>\n",
       "      <td>NaN</td>\n",
       "      <td>NaN</td>\n",
       "      <td>NaN</td>\n",
       "      <td>NaN</td>\n",
       "      <td>NaN</td>\n",
       "      <td>NaN</td>\n",
       "    </tr>\n",
       "    <tr>\n",
       "      <th>3</th>\n",
       "      <td>251909718</td>\n",
       "      <td>NaN</td>\n",
       "      <td>NaN</td>\n",
       "      <td>19.0</td>\n",
       "      <td>NaN</td>\n",
       "      <td>14.0</td>\n",
       "      <td>35.0</td>\n",
       "      <td>4.0</td>\n",
       "      <td>NaN</td>\n",
       "      <td>NaN</td>\n",
       "      <td>...</td>\n",
       "      <td>NaN</td>\n",
       "      <td>NaN</td>\n",
       "      <td>NaN</td>\n",
       "      <td>NaN</td>\n",
       "      <td>NaN</td>\n",
       "      <td>NaN</td>\n",
       "      <td>NaN</td>\n",
       "      <td>NaN</td>\n",
       "      <td>NaN</td>\n",
       "      <td>NaN</td>\n",
       "    </tr>\n",
       "    <tr>\n",
       "      <th>4</th>\n",
       "      <td>537506634</td>\n",
       "      <td>NaN</td>\n",
       "      <td>NaN</td>\n",
       "      <td>NaN</td>\n",
       "      <td>NaN</td>\n",
       "      <td>NaN</td>\n",
       "      <td>NaN</td>\n",
       "      <td>NaN</td>\n",
       "      <td>NaN</td>\n",
       "      <td>NaN</td>\n",
       "      <td>...</td>\n",
       "      <td>NaN</td>\n",
       "      <td>NaN</td>\n",
       "      <td>NaN</td>\n",
       "      <td>NaN</td>\n",
       "      <td>NaN</td>\n",
       "      <td>NaN</td>\n",
       "      <td>NaN</td>\n",
       "      <td>NaN</td>\n",
       "      <td>NaN</td>\n",
       "      <td>NaN</td>\n",
       "    </tr>\n",
       "  </tbody>\n",
       "</table>\n",
       "<p>5 rows × 367 columns</p>\n",
       "</div>"
      ],
      "text/plain": [
       "          0    1    2     3    4     5     6    7    8    9    ...  357  358  \\\n",
       "0   621515737  NaN  NaN  24.0  NaN   NaN   NaN  NaN  NaN  NaN  ...  NaN  NaN   \n",
       "1  1460155726  NaN  NaN   NaN  NaN   NaN   NaN  NaN  NaN  NaN  ...  NaN  NaN   \n",
       "2  1191489093  NaN  NaN   NaN  NaN   NaN   NaN  NaN  NaN  NaN  ...  NaN  NaN   \n",
       "3   251909718  NaN  NaN  19.0  NaN  14.0  35.0  4.0  NaN  NaN  ...  NaN  NaN   \n",
       "4   537506634  NaN  NaN   NaN  NaN   NaN   NaN  NaN  NaN  NaN  ...  NaN  NaN   \n",
       "\n",
       "   359  360  361  362  363 364  365  366  \n",
       "0  NaN  NaN  NaN  NaN  NaN NaN  1.0  NaN  \n",
       "1  NaN  NaN  NaN  NaN  NaN NaN  NaN  NaN  \n",
       "2  NaN  NaN  NaN  NaN  NaN NaN  NaN  NaN  \n",
       "3  NaN  NaN  NaN  NaN  NaN NaN  NaN  NaN  \n",
       "4  NaN  NaN  NaN  NaN  NaN NaN  NaN  NaN  \n",
       "\n",
       "[5 rows x 367 columns]"
      ]
     },
     "execution_count": 2,
     "metadata": {},
     "output_type": "execute_result"
    }
   ],
   "source": [
    "import pickle\n",
    "import pandas as pd\n",
    "import numpy as np\n",
    "import matplotlib.pyplot as plt\n",
    "import tensorflow as tf\n",
    "import seaborn as sns\n",
    "df = None\n",
    "with open('data.pkl','rb') as pickle_file:\n",
    "   df = pickle.load(pickle_file)\n",
    "df = pd.DataFrame(df)\n",
    "# api를 통해 저장된 DB에서 가져온 raw data\n",
    "df.head()"
   ]
  },
  {
   "cell_type": "code",
   "execution_count": 3,
   "metadata": {},
   "outputs": [
    {
     "data": {
      "text/html": [
       "<div>\n",
       "<style scoped>\n",
       "    .dataframe tbody tr th:only-of-type {\n",
       "        vertical-align: middle;\n",
       "    }\n",
       "\n",
       "    .dataframe tbody tr th {\n",
       "        vertical-align: top;\n",
       "    }\n",
       "\n",
       "    .dataframe thead th {\n",
       "        text-align: right;\n",
       "    }\n",
       "</style>\n",
       "<table border=\"1\" class=\"dataframe\">\n",
       "  <thead>\n",
       "    <tr style=\"text-align: right;\">\n",
       "      <th></th>\n",
       "      <th>d365</th>\n",
       "      <th>d364</th>\n",
       "      <th>d363</th>\n",
       "      <th>d362</th>\n",
       "      <th>d361</th>\n",
       "      <th>d360</th>\n",
       "      <th>d359</th>\n",
       "      <th>d358</th>\n",
       "      <th>d357</th>\n",
       "      <th>d356</th>\n",
       "      <th>...</th>\n",
       "      <th>d9</th>\n",
       "      <th>d8</th>\n",
       "      <th>d7</th>\n",
       "      <th>d6</th>\n",
       "      <th>d5</th>\n",
       "      <th>d4</th>\n",
       "      <th>d3</th>\n",
       "      <th>d2</th>\n",
       "      <th>d1</th>\n",
       "      <th>d0</th>\n",
       "    </tr>\n",
       "  </thead>\n",
       "  <tbody>\n",
       "    <tr>\n",
       "      <th>0</th>\n",
       "      <td>0</td>\n",
       "      <td>0</td>\n",
       "      <td>24</td>\n",
       "      <td>0</td>\n",
       "      <td>0</td>\n",
       "      <td>0</td>\n",
       "      <td>0</td>\n",
       "      <td>0</td>\n",
       "      <td>0</td>\n",
       "      <td>0</td>\n",
       "      <td>...</td>\n",
       "      <td>0</td>\n",
       "      <td>0</td>\n",
       "      <td>0</td>\n",
       "      <td>0</td>\n",
       "      <td>0</td>\n",
       "      <td>0</td>\n",
       "      <td>0</td>\n",
       "      <td>0</td>\n",
       "      <td>1</td>\n",
       "      <td>0</td>\n",
       "    </tr>\n",
       "    <tr>\n",
       "      <th>1</th>\n",
       "      <td>0</td>\n",
       "      <td>0</td>\n",
       "      <td>0</td>\n",
       "      <td>0</td>\n",
       "      <td>0</td>\n",
       "      <td>0</td>\n",
       "      <td>0</td>\n",
       "      <td>0</td>\n",
       "      <td>0</td>\n",
       "      <td>0</td>\n",
       "      <td>...</td>\n",
       "      <td>0</td>\n",
       "      <td>0</td>\n",
       "      <td>0</td>\n",
       "      <td>0</td>\n",
       "      <td>0</td>\n",
       "      <td>0</td>\n",
       "      <td>0</td>\n",
       "      <td>0</td>\n",
       "      <td>0</td>\n",
       "      <td>0</td>\n",
       "    </tr>\n",
       "    <tr>\n",
       "      <th>2</th>\n",
       "      <td>0</td>\n",
       "      <td>0</td>\n",
       "      <td>0</td>\n",
       "      <td>0</td>\n",
       "      <td>0</td>\n",
       "      <td>0</td>\n",
       "      <td>0</td>\n",
       "      <td>0</td>\n",
       "      <td>0</td>\n",
       "      <td>0</td>\n",
       "      <td>...</td>\n",
       "      <td>0</td>\n",
       "      <td>0</td>\n",
       "      <td>0</td>\n",
       "      <td>0</td>\n",
       "      <td>0</td>\n",
       "      <td>0</td>\n",
       "      <td>0</td>\n",
       "      <td>0</td>\n",
       "      <td>0</td>\n",
       "      <td>0</td>\n",
       "    </tr>\n",
       "    <tr>\n",
       "      <th>3</th>\n",
       "      <td>0</td>\n",
       "      <td>0</td>\n",
       "      <td>19</td>\n",
       "      <td>0</td>\n",
       "      <td>14</td>\n",
       "      <td>35</td>\n",
       "      <td>4</td>\n",
       "      <td>0</td>\n",
       "      <td>0</td>\n",
       "      <td>0</td>\n",
       "      <td>...</td>\n",
       "      <td>0</td>\n",
       "      <td>0</td>\n",
       "      <td>0</td>\n",
       "      <td>0</td>\n",
       "      <td>0</td>\n",
       "      <td>0</td>\n",
       "      <td>0</td>\n",
       "      <td>0</td>\n",
       "      <td>0</td>\n",
       "      <td>0</td>\n",
       "    </tr>\n",
       "    <tr>\n",
       "      <th>4</th>\n",
       "      <td>0</td>\n",
       "      <td>0</td>\n",
       "      <td>0</td>\n",
       "      <td>0</td>\n",
       "      <td>0</td>\n",
       "      <td>0</td>\n",
       "      <td>0</td>\n",
       "      <td>0</td>\n",
       "      <td>0</td>\n",
       "      <td>0</td>\n",
       "      <td>...</td>\n",
       "      <td>0</td>\n",
       "      <td>0</td>\n",
       "      <td>0</td>\n",
       "      <td>0</td>\n",
       "      <td>0</td>\n",
       "      <td>0</td>\n",
       "      <td>0</td>\n",
       "      <td>0</td>\n",
       "      <td>0</td>\n",
       "      <td>0</td>\n",
       "    </tr>\n",
       "  </tbody>\n",
       "</table>\n",
       "<p>5 rows × 366 columns</p>\n",
       "</div>"
      ],
      "text/plain": [
       "   d365  d364  d363  d362  d361  d360  d359  d358  d357  d356  ...  d9  d8  \\\n",
       "0     0     0    24     0     0     0     0     0     0     0  ...   0   0   \n",
       "1     0     0     0     0     0     0     0     0     0     0  ...   0   0   \n",
       "2     0     0     0     0     0     0     0     0     0     0  ...   0   0   \n",
       "3     0     0    19     0    14    35     4     0     0     0  ...   0   0   \n",
       "4     0     0     0     0     0     0     0     0     0     0  ...   0   0   \n",
       "\n",
       "   d7  d6  d5  d4  d3  d2  d1  d0  \n",
       "0   0   0   0   0   0   0   1   0  \n",
       "1   0   0   0   0   0   0   0   0  \n",
       "2   0   0   0   0   0   0   0   0  \n",
       "3   0   0   0   0   0   0   0   0  \n",
       "4   0   0   0   0   0   0   0   0  \n",
       "\n",
       "[5 rows x 366 columns]"
      ]
     },
     "execution_count": 3,
     "metadata": {},
     "output_type": "execute_result"
    }
   ],
   "source": [
    "# 간단한 전처리\n",
    "df = df.drop(columns=[0])\n",
    "df.columns = [f\"d{i}\" for i in range(365, -1, -1)]\n",
    "df = df.fillna(0)\n",
    "df = df.astype(int)\n",
    "df2 = df.copy()\n",
    "df.head()"
   ]
  },
  {
   "cell_type": "code",
   "execution_count": 4,
   "metadata": {},
   "outputs": [
    {
     "data": {
      "text/plain": [
       "<seaborn.axisgrid.FacetGrid at 0x29595b96a30>"
      ]
     },
     "execution_count": 4,
     "metadata": {},
     "output_type": "execute_result"
    },
    {
     "data": {
      "image/png": "[encoded data removed]",
      "text/plain": [
       "<Figure size 576x288 with 1 Axes>"
      ]
     },
     "metadata": {
      "needs_background": "light"
     },
     "output_type": "display_data"
    }
   ],
   "source": [
    "# 모든 유저를 대상으로 하는 예측은 정확도가 낮다 모델에 필요한 유저만 선별한다\n",
    "# 유저들의 접속률 확인\n",
    "def toone(x):\n",
    "   if x != 0:\n",
    "      return 1\n",
    "   else:\n",
    "      return x  \n",
    "for i in list(df.columns):\n",
    "    df[i] = df[i].apply(toone)\n",
    "df = pd.concat([df, df.T.mean()], axis = 1)\n",
    "col = df.columns\n",
    "df.columns = list(col[:-1]) + [\"play_ratio\"]\n",
    "a = (df[\"play_ratio\"] > 0.05) & (df[\"play_ratio\"] < 0.95)\n",
    "sns.displot(df[\"play_ratio\"], kde = True,height=4, aspect=2)"
   ]
  },
  {
   "cell_type": "code",
   "execution_count": 5,
   "metadata": {},
   "outputs": [
    {
     "data": {
      "text/plain": [
       "(32056, 366)"
      ]
     },
     "execution_count": 5,
     "metadata": {},
     "output_type": "execute_result"
    }
   ],
   "source": [
    "# 거의 접속하지 않는 유저나 매일 접속하는 유저는 모델링에 방해가 될 수 있으므로 제거한다\n",
    "df = df.loc[(df[\"play_ratio\"] > 0.05) & (df[\"play_ratio\"] < 0.95)].reset_index(drop=True)\n",
    "df2 = df2[a].reset_index(drop=True)\n",
    "df = df.drop(\"play_ratio\", axis=1)\n",
    "df.shape"
   ]
  },
  {
   "cell_type": "code",
   "execution_count": 6,
   "metadata": {},
   "outputs": [
    {
     "data": {
      "text/plain": [
       "[<matplotlib.lines.Line2D at 0x295ac38b850>]"
      ]
     },
     "execution_count": 6,
     "metadata": {},
     "output_type": "execute_result"
    },
    {
     "data": {
      "image/png": "[encoded data removed]",
      "text/plain": [
       "<Figure size 720x288 with 1 Axes>"
      ]
     },
     "metadata": {
      "needs_background": "light"
     },
     "output_type": "display_data"
    }
   ],
   "source": [
    "# 라벨링 실시\n",
    "# N 일 연속으로 미접속한 유저는 이탈 유저일 것이다\n",
    "# N 이 너무 크면 문제가 이탈을 확인하는데 너무 오래 걸리고, 너무 작으면 실제 이탈 유저가 아닌데 오탐을 할 확률이 높아진다\n",
    "# 적정한 N을 찾아보자\n",
    "def count_chum(input_df, intday):\n",
    "  day = f\"d{intday}\"\n",
    "  df = input_df.copy()\n",
    "  columns = list(df.columns)[::-1]\n",
    "  columns = columns[columns.index(day):]\n",
    "  df[\"result\"] = 0\n",
    "  df['done'] = 0\n",
    "  for col in columns: \n",
    "    df.loc[((df[\"done\"] == 0) & (df[col] == 0)), 'result'] += 1\n",
    "    df.loc[((df[\"done\"] == 0) & (df[col] == 1)), 'done'] = 1  \n",
    "  return df\n",
    "a = count_chum(df,0)['result'].value_counts(normalize=True).sort_index()\n",
    "aa = []\n",
    "for i in range(1,100):\n",
    "    aa.append(sum(a[:i]))\n",
    "plt.figure(figsize=(10,4))    \n",
    "plt.plot(aa)"
   ]
  },
  {
   "cell_type": "code",
   "execution_count": 7,
   "metadata": {},
   "outputs": [
    {
     "name": "stdout",
     "output_type": "stream",
     "text": [
      "0    0.61717\n",
      "1    0.38283\n",
      "Name: label, dtype: float64\n"
     ]
    }
   ],
   "source": [
    "# 데이터 라벨링 N = 20\n",
    "def prepro(df, intday):\n",
    "  df_co = count_chum(df, intday)\n",
    "  df_co3 = count_chum(df, 0)\n",
    "  df_co3.loc[df_co3['result'] >= intday, 'label'] = 1\n",
    "  df_co3.loc[df_co3['result'] < intday, 'label'] = 0\n",
    "  df_co3['label'] = df_co3['label'].apply(lambda x : int(x))\n",
    "  df_la = pd.concat([df_co, df_co3[[\"label\"]]], axis=1)\n",
    "  return df_la\n",
    "y = prepro(df, 20)[\"label\"]\n",
    "print(y.value_counts(normalize=True))\n",
    "y = np.array(y)"
   ]
  },
  {
   "cell_type": "code",
   "execution_count": 8,
   "metadata": {},
   "outputs": [
    {
     "data": {
      "text/plain": [
       "((32056, 366), (32056, 366))"
      ]
     },
     "execution_count": 8,
     "metadata": {},
     "output_type": "execute_result"
    }
   ],
   "source": [
    "df.shape, df2.shape"
   ]
  },
  {
   "cell_type": "code",
   "execution_count": 9,
   "metadata": {},
   "outputs": [],
   "source": [
    "# 입력데이터 준비\n",
    "n = np.array([df.iloc[:,:-20], df2.iloc[:,:-20]])\n",
    "X = np.zeros((32056,346,2))\n",
    "for i in range(32056):\n",
    "    for ii in range(346):\n",
    "        X[i,ii,0] = n[0,i,ii]\n",
    "        X[i,ii,1] = n[1,i,ii]"
   ]
  },
  {
   "cell_type": "code",
   "execution_count": 10,
   "metadata": {},
   "outputs": [],
   "source": [
    "# 훈련데이터 테스트데이터 분리\n",
    "from sklearn.model_selection import train_test_split\n",
    "X_train, X_test , y_train, y_test = train_test_split(X, y,\n",
    "train_size = 0.8, \n",
    "test_size = 0.2, \n",
    "random_state=2,\n",
    "stratify=y)"
   ]
  },
  {
   "cell_type": "code",
   "execution_count": 11,
   "metadata": {},
   "outputs": [],
   "source": [
    "from sklearn.preprocessing import RobustScaler\n",
    "scaler = RobustScaler()\n",
    "X_train[:,:,0] = scaler.fit_transform(X_train[:,:,0])\n",
    "X_test[:,:,0] = scaler.transform(X_test[:,:,0])\n",
    "scaler = RobustScaler()\n",
    "X_train[:,:,1] = scaler.fit_transform(X_train[:,:,1])\n",
    "X_test[:,:,1] = scaler.transform(X_test[:,:,1])"
   ]
  },
  {
   "cell_type": "code",
   "execution_count": 12,
   "metadata": {},
   "outputs": [
    {
     "name": "stdout",
     "output_type": "stream",
     "text": [
      "Epoch 1/10\n",
      "321/321 [==============================] - 10s 17ms/step - loss: 0.5344 - acc: 0.7685 - val_loss: 0.4989 - val_acc: 0.7754\n",
      "Epoch 2/10\n",
      "321/321 [==============================] - 5s 16ms/step - loss: 0.4913 - acc: 0.7724 - val_loss: 0.4587 - val_acc: 0.7888\n",
      "Epoch 3/10\n",
      "321/321 [==============================] - 5s 16ms/step - loss: 0.4528 - acc: 0.7923 - val_loss: 0.4276 - val_acc: 0.8019\n",
      "Epoch 4/10\n",
      "321/321 [==============================] - 5s 16ms/step - loss: 0.4345 - acc: 0.8009 - val_loss: 0.4219 - val_acc: 0.8033\n",
      "Epoch 5/10\n",
      "321/321 [==============================] - 5s 16ms/step - loss: 0.4323 - acc: 0.7999 - val_loss: 0.4198 - val_acc: 0.8039\n",
      "Epoch 6/10\n",
      "321/321 [==============================] - 5s 16ms/step - loss: 0.4318 - acc: 0.7987 - val_loss: 0.4186 - val_acc: 0.8027\n",
      "Epoch 7/10\n",
      "321/321 [==============================] - 5s 16ms/step - loss: 0.4292 - acc: 0.8015 - val_loss: 0.4168 - val_acc: 0.8029\n",
      "Epoch 8/10\n",
      "321/321 [==============================] - 5s 16ms/step - loss: 0.4285 - acc: 0.7991 - val_loss: 0.4169 - val_acc: 0.8005\n",
      "Epoch 9/10\n",
      "321/321 [==============================] - 5s 16ms/step - loss: 0.4271 - acc: 0.8005 - val_loss: 0.4152 - val_acc: 0.8043\n",
      "Epoch 10/10\n",
      "321/321 [==============================] - 5s 16ms/step - loss: 0.4270 - acc: 0.8000 - val_loss: 0.4137 - val_acc: 0.8031\n"
     ]
    }
   ],
   "source": [
    "from tensorflow.keras.layers import Dense, LSTM\n",
    "from tensorflow.keras.models import Sequential\n",
    "\n",
    "model = Sequential()\n",
    "model.add(LSTM(10, dropout=0.1))\n",
    "model.add(Dense(1, activation='sigmoid'))\n",
    "\n",
    "model.compile(optimizer='sgd', loss='binary_crossentropy', metrics=['acc'])\n",
    "history = model.fit(X_train, y_train, epochs=10, batch_size=64, validation_split=0.2)"
   ]
  },
  {
   "cell_type": "code",
   "execution_count": 13,
   "metadata": {},
   "outputs": [
    {
     "name": "stdout",
     "output_type": "stream",
     "text": [
      "201/201 [==============================] - 1s 7ms/step - loss: 0.4267 - acc: 0.7974\n"
     ]
    },
    {
     "data": {
      "text/plain": [
       "0.7974110841751099"
      ]
     },
     "execution_count": 13,
     "metadata": {},
     "output_type": "execute_result"
    }
   ],
   "source": [
    "model.evaluate(X_test, y_test)[1]"
   ]
  },
  {
   "cell_type": "code",
   "execution_count": 14,
   "metadata": {},
   "outputs": [
    {
     "data": {
      "image/png": "[encoded data removed]",
      "text/plain": [
       "<Figure size 432x288 with 1 Axes>"
      ]
     },
     "metadata": {
      "needs_background": "light"
     },
     "output_type": "display_data"
    }
   ],
   "source": [
    "epochs = range(1, len(history.history['acc']) + 1)\n",
    "plt.plot(epochs, history.history['loss'])\n",
    "plt.plot(epochs, history.history['val_loss'])\n",
    "plt.title('model loss')\n",
    "plt.ylabel('loss')\n",
    "plt.xlabel('epoch')\n",
    "plt.legend(['train', 'val'], loc='upper left')\n",
    "plt.show()"
   ]
  },
  {
   "cell_type": "code",
   "execution_count": 15,
   "metadata": {},
   "outputs": [
    {
     "name": "stdout",
     "output_type": "stream",
     "text": [
      "accuracy =  0.7974111041796631\n",
      "recall =  0.7344195519348269\n",
      "precision =  0.7359183673469388\n"
     ]
    }
   ],
   "source": [
    "y_pred = model.predict(X_test)\n",
    "y_pred = np.where(y_pred > 0.5, 1 , 0)\n",
    "from sklearn.metrics import accuracy_score\n",
    "print(\"accuracy = \", accuracy_score(y_test, y_pred))\n",
    "\n",
    "\n",
    "from sklearn.metrics import recall_score\n",
    "print(\"recall = \", recall_score(y_test, y_pred))\n",
    "\n",
    "from sklearn.metrics import precision_score\n",
    "print(\"precision = \", precision_score(y_test, y_pred))"
   ]
  },
  {
   "cell_type": "code",
   "execution_count": 16,
   "metadata": {},
   "outputs": [
    {
     "data": {
      "text/plain": [
       "<sklearn.metrics._plot.confusion_matrix.ConfusionMatrixDisplay at 0x295ac4b72b0>"
      ]
     },
     "execution_count": 16,
     "metadata": {},
     "output_type": "execute_result"
    },
    {
     "data": {
      "image/png": "[encoded data removed]",
      "text/plain": [
       "<Figure size 432x288 with 2 Axes>"
      ]
     },
     "metadata": {
      "needs_background": "light"
     },
     "output_type": "display_data"
    }
   ],
   "source": [
    "# Confusion Matrix 그리기\n",
    "from sklearn.metrics import ConfusionMatrixDisplay\n",
    "ConfusionMatrixDisplay.from_predictions(y_test, y_pred, cmap=plt.cm.Blues)"
   ]
  }
 ],
 "metadata": {
  "interpreter": {
   "hash": "2fb6a75839afd143b69e86f4446ffa45e39fdab4924328e906ec390250a4cce0"
  },
  "kernelspec": {
   "display_name": "Python 3.9.0 ('Section4Project': conda)",
   "language": "python",
   "name": "python3"
  },
  "language_info": {
   "codemirror_mode": {
    "name": "ipython",
    "version": 3
   },
   "file_extension": ".py",
   "mimetype": "text/x-python",
   "name": "python",
   "nbconvert_exporter": "python",
   "pygments_lexer": "ipython3",
   "version": "3.9.7"
  },
  "orig_nbformat": 4
 },
 "nbformat": 4,
 "nbformat_minor": 2
}
